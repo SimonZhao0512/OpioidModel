{
 "cells": [
  {
   "cell_type": "markdown",
   "metadata": {},
   "source": [
    "## Prescription Opioid Model  \n",
    "### Roland Chen, Noah Igra, Simon Zhao  \n",
    "### November 20th, 2019"
   ]
  },
  {
   "cell_type": "code",
   "execution_count": 1,
   "metadata": {},
   "outputs": [],
   "source": [
    "from scipy.integrate import solve_ivp\n",
    "import numpy as np\n",
    "import csv\n",
    "import math\n",
    "import matplotlib.pyplot as plt\n",
    "\n"
   ]
  },
  {
   "cell_type": "code",
   "execution_count": 5,
   "metadata": {},
   "outputs": [],
   "source": [
    "def parameter_plug(mycsv):\n",
    "    '''Converts csv table of coefficients into a dictionary'''\n",
    "    \n",
    "    all_param = {}\n",
    "    \n",
    "    with open(mycsv,'r') as csv_file:\n",
    "        data = csv.reader(csv_file, delimiter = ',')\n",
    "        \n",
    "        for line in data:\n",
    "            #Make dictionary of values s.t the keys match the table key\n",
    "            #inputformat is the proper format for such a table, but any order\n",
    "            #of these specifically named parameters would work\n",
    "            param = line[0]\n",
    "            all_param[param] = float(line[1])\n",
    "        \n",
    "    return all_param\n",
    "\n",
    "def progress_report(current_step,totalstep,howmanyreports):\n",
    "    '''Returns a progress report a specified amount of times'''\n",
    "    \n",
    "    steps_per_report = totalstep//howmanyreports\n",
    "    if current_step % steps_per_report == 0:\n",
    "        report_percent = math.ceil((current_step / totalstep)*100)\n",
    "        print('Progress: {}%'.format(report_percent))\n",
    "        \n",
    "\n",
    "\n",
    "def addict_initial(addictdeathrate,estaddictod,naturaldeath,presodrate2010,poprange):\n",
    "    '''Calculates the proportion of the sample attributed to the addicted\n",
    "    population at 2010'''\n",
    "    \n",
    "    #Based on Battista(2019) evaluation of addict pop at t0\n",
    "    actual_pres_od_2010 = presodrate2010*poprange[2010]\n",
    "    initialaddict = estaddictod*actual_pres_od_2010 / poprange[2010]\n",
    "    initialaddict = initialaddict / (addictdeathrate - naturaldeath)\n",
    "    \n",
    "    return initialaddict\n",
    "\n",
    "\n",
    "def addict_death_rate(estaddictod,actualod2015,naturaldeath,poprange):\n",
    "    '''Calculates the death rate for the addicted population'''\n",
    "    \n",
    "    #Based on Battista(2019) evaluation of yearly addict death rate\n",
    "    OP_SUD = 1.9/100 # northeast Opioid SUD proportion (Han 2015)\n",
    "    addict_pop_2015 = poprange[2015] * OP_SUD\n",
    "    addict_death = estaddictod * actualod2015 * poprange[2015]#2015\n",
    "    addict_death = addict_death / addict_pop_2015\n",
    "    addict_death = addict_death + (naturaldeath - estaddictod*actualod2015)\n",
    "    rate = -1*math.log(1 - addict_death)\n",
    "    \n",
    "    return rate\n",
    "\n"
   ]
  },
  {
   "cell_type": "markdown",
   "metadata": {},
   "source": [
    "# Model Validation"
   ]
  },
  {
   "cell_type": "markdown",
   "metadata": {},
   "source": [
    "## **Step 1**: Input Parameters"
   ]
  },
  {
   "cell_type": "code",
   "execution_count": 14,
   "metadata": {},
   "outputs": [],
   "source": [
    "param_dict = parameter_plug('nyc.csv')\n",
    "#Depending on selection, will define our variable parameters accordingly\n",
    "\n",
    "#Populations from 2010 - 2017\n",
    "pop_2010_2017 = {2010:param_dict['pop_2010'],2011:param_dict['pop_2011'],\n",
    "                 2012:param_dict['pop_2012'],2013:param_dict['pop_2013'],\n",
    "                 2014:param_dict['pop_2014'],2015:param_dict['pop_2015'],\n",
    "                 2016:param_dict['pop_2016'],2017:param_dict['pop_2017']}\n",
    "est_addict_od = param_dict['est_addict_od']#Estimated proportion of prescription opioid overdoses attributed to addicts\n",
    "#Actual overdoses from 2011-2017 and compiling those values into a list\n",
    "opioid_od_2011 = param_dict['opioid_od_2011']*est_addict_od\n",
    "opioid_od_2012 = param_dict['opioid_od_2012']*est_addict_od\n",
    "opioid_od_2013 = param_dict['opioid_od_2013']*est_addict_od\n",
    "opioid_od_2014 = param_dict['opioid_od_2014']*est_addict_od\n",
    "opioid_od_2015 = param_dict['opioid_od_2015']*est_addict_od\n",
    "opioid_od_2016 = param_dict['opioid_od_2016']*est_addict_od\n",
    "opioid_od_2017 = param_dict['opioid_od_2017']*est_addict_od\n",
    "addict_od_list = [opioid_od_2011,opioid_od_2012,opioid_od_2013,\n",
    "                  opioid_od_2014,opioid_od_2015,opioid_od_2016,\n",
    "                  opioid_od_2017]\n",
    "od_dict = {2011:opioid_od_2011,2012:opioid_od_2012,2013:opioid_od_2013,\n",
    "          2014:opioid_od_2014,2015:opioid_od_2015,2016:opioid_od_2016,\n",
    "          2017:opioid_od_2017}\n",
    "pres_rate = [param_dict['pres_rate']]#Prescription rate\n",
    "no_addict_rate = [0.005,0.5,1.0,1.5,2.0,2.5,3]#Rate of ending prescription without addiction\n",
    "treat_entry_rate = np.linspace(0.001,1,300,endpoint = True).tolist()#Treatment entry rate\n",
    "\n",
    "addict_rate = param_dict['addict_rate']#Rate of addiction from prescription\n",
    "addict_fromaddict_rate = param_dict['addict_fromaddict_rate']#Rate of addiction from illicit drugs from addicts \n",
    "addict_frompres_rate = param_dict['addict_frompres_rate']#Rate of addiction from illicit drugs from prescribed users \n",
    "relapse_rate = param_dict['relapse_rate']#Rate of relapse\n",
    "rehab_success_rate = 0.1 #Rate of completing treatment successfully \n",
    "\n",
    "\n",
    "#Values to be used by all/ needed to evaluate initial conditions    \n",
    "death_rate = param_dict['natural_death_rate']#Natural death rate\n",
    "actual_od_death_2015 = param_dict['actual_od_death_2015']#Rate of actual overdose in 2015\n",
    "presopioid_death_rate_2010 = param_dict['presopioid_death_rate_2010']#Rate of actual overdose in 2010\n",
    "#Death rate attributed to the addicted class\n",
    "addict_od_death_rate = addict_death_rate(est_addict_od,actual_od_death_2015,\n",
    "                                             death_rate,pop_2010_2017)\n",
    "\n",
    "\n",
    "step = 0 #initiate step_count\n",
    "step_total = len(pres_rate)*len(treat_entry_rate)*len(no_addict_rate)*7 # Total iterations, not accounting for internal manipulations\n"
   ]
  },
  {
   "cell_type": "code",
   "execution_count": 15,
   "metadata": {},
   "outputs": [
    {
     "name": "stdout",
     "output_type": "stream",
     "text": [
      "\n",
      "Modeling epidemic starting at 2010:\n",
      "s = 0.9484\n",
      "p = 0.0387\n",
      "a = 0.0117\n",
      "r = 0.0012\n"
     ]
    }
   ],
   "source": [
    "t_0 = 2010\n",
    "span = 8 #end at 2017\n",
    "p_0 = param_dict['p_0']#Proportion of population prescribed opioids per week\n",
    "a_0 = addict_initial(addict_od_death_rate,est_addict_od,death_rate,\n",
    "                     presopioid_death_rate_2010,pop_2010_2017)\n",
    "r_0 = 0.1*a_0\n",
    "s_0 = 1 - (p_0 + a_0 + r_0)\n",
    "\n",
    "###END OF DATA DUMP###\n",
    "\n",
    "#Some opening notes, show user initial conditions\n",
    "print('\\nModeling epidemic starting at 2010:')\n",
    "print('s = {:.4f}'.format(s_0))\n",
    "print('p = {:.4f}'.format(p_0))\n",
    "print('a = {:.4f}'.format(a_0))\n",
    "print('r = {:.4f}'.format(r_0))"
   ]
  },
  {
   "cell_type": "markdown",
   "metadata": {},
   "source": [
    "## Step 2: Solve the ODE's  \n",
    "\n",
    "Define $\\dot{S}$, $\\dot{P}$, $\\dot{A}$ , and $\\dot{R}$"
   ]
  },
  {
   "cell_type": "code",
   "execution_count": 16,
   "metadata": {},
   "outputs": [],
   "source": [
    "def func_s(t,x,s,p,a,r,addict_fromaddict_rate,addict_frompres_rate,\n",
    "           j,rehab_success_rate,death_rate,addict_od_death_rate):\n",
    "    '''returns RHS of ds/dt'''\n",
    "\n",
    "    return -x*s -addict_fromaddict_rate*s*a -addict_frompres_rate*s*p + j*p + rehab_success_rate*r + death_rate*(p + r) + addict_od_death_rate*a\n",
    "    \n",
    "    \n",
    "def func_p(t,x,s,p,j,addict_rate,death_rate):\n",
    "    '''returns RHS of dp/dt'''\n",
    "\n",
    "    return x*s -(j + addict_rate + death_rate)*p \n",
    "    \n",
    "\n",
    "def func_a(t,addict_rate,s,p,a,r,relapse_rate,addict_fromaddict_rate,\n",
    "           addict_frompres_rate,k,addict_od_death_rate):\n",
    "    '''returns RHS of da/dt'''\n",
    "    \n",
    "    return addict_rate*p + relapse_rate*r + addict_fromaddict_rate*s*a + addict_frompres_rate*s*p -(k + addict_od_death_rate)*a\n",
    "    \n",
    "\n",
    "\n",
    "def func_r(t,k,a,r,rehab_success_rate,relapse_rate,death_rate):\n",
    "    '''returns RHS of dr/dt'''\n",
    "\n",
    "    return k*a -(rehab_success_rate + relapse_rate + death_rate)*r\n"
   ]
  },
  {
   "cell_type": "markdown",
   "metadata": {},
   "source": [
    "### Combine above into a 4x1 function"
   ]
  },
  {
   "cell_type": "code",
   "execution_count": 17,
   "metadata": {},
   "outputs": [],
   "source": [
    "def df_dt(t,poplist,x,j,k,addict_rate,addict_fromaddict_rate,\n",
    "          addict_frompres_rate,relapse_rate,rehab_success_rate,\n",
    "          addict_od_death_rate,death_rate):\n",
    "    ''' returns RHS 4x1 matrix of ODE's  f(s), f(p), f(a), f(r)'''\n",
    "    \n",
    "    s,p,a,r = poplist[0], poplist[1], poplist[2],poplist[3]\n",
    "    f_s = func_s(t,x,s,p,a,r,addict_fromaddict_rate,addict_frompres_rate,j,\n",
    "                 rehab_success_rate,death_rate,addict_od_death_rate)\n",
    "    f_p = func_p(t,x,s,p,j,addict_rate,death_rate)\n",
    "    f_a = func_a(t,addict_rate,s,p,a,r,relapse_rate,addict_fromaddict_rate,\n",
    "                 addict_frompres_rate,k,addict_od_death_rate)\n",
    "    f_r = func_r(t,k,a,r,rehab_success_rate,relapse_rate,death_rate)\n",
    "    return [f_s,f_p,f_a,f_r]\n"
   ]
  },
  {
   "cell_type": "markdown",
   "metadata": {},
   "source": [
    "### RK4 solver for a 4x1 vector function"
   ]
  },
  {
   "cell_type": "code",
   "execution_count": 18,
   "metadata": {},
   "outputs": [],
   "source": [
    "def rk4_odesolver(poplist,listofparameters):\n",
    "    '''solves the 4-D ODE for the opioid epidemic for a step size of 1\n",
    "    using the RK4 method using proportions at some t_n\n",
    "    returns a tupple of our proportions at t_n+1'''\n",
    "    \n",
    "    #Local parameter assignement\n",
    "    x = listofparameters[0]\n",
    "    j = listofparameters[1]\n",
    "    k = listofparameters[2]\n",
    "    addict_rate = listofparameters[3]\n",
    "    addict_fromaddict_rate = listofparameters[4]\n",
    "    addict_frompres_rate = listofparameters[5]\n",
    "    relapse_rate = listofparameters[6]\n",
    "    rehab_success_rate = listofparameters[7]\n",
    "    death_rate = listofparameters[8]\n",
    "    addict_od_death_rate = listofparameters[9]\n",
    "\n",
    "    #Some values for solveivp to be used for all populations\n",
    "    method = 'RK45'\n",
    "    atol = 1.e-10\n",
    "    rtol = 1.e-6\n",
    "    t_min = 0.\n",
    "    t_max = 1\n",
    "    t_span= np.array([t_min, t_max])\n",
    "    \n",
    "    \n",
    "    pop_n_1 = solve_ivp(lambda t,poplist : \n",
    "        df_dt(t,poplist,x,j,k,addict_rate,addict_fromaddict_rate,\n",
    "              addict_frompres_rate,relapse_rate,rehab_success_rate,\n",
    "              addict_od_death_rate,death_rate),\n",
    "       t_span,np.array(poplist),\n",
    "       method = method, rtol=rtol, atol=atol,vectorized = True)\n",
    "\n",
    "    values_n_1 = pop_n_1.y[:,-1]\n",
    "    sfin,pfin,afin,rfin = values_n_1[0], values_n_1[1], values_n_1[2], values_n_1[3]\n",
    "\n",
    "    return sfin,pfin,afin,rfin"
   ]
  },
  {
   "cell_type": "markdown",
   "metadata": {},
   "source": [
    "### For each *combination* of parameters,  solve for span (t)"
   ]
  },
  {
   "cell_type": "code",
   "execution_count": 19,
   "metadata": {},
   "outputs": [
    {
     "name": "stdout",
     "output_type": "stream",
     "text": [
      "Progress: 34%\n",
      "Progress: 67%\n",
      "Progress: 100%\n"
     ]
    }
   ],
   "source": [
    "#Initiate list for results\n",
    "results = []\n",
    "step = 0\n",
    "for pres_r in pres_rate: \n",
    "    for treat_ent_r in treat_entry_rate:\n",
    "        for no_addict_r in no_addict_rate:\n",
    "            #Reset proportions to t = t_0\n",
    "            s,p,a,r = s_0, p_0, a_0, r_0\n",
    "\n",
    "            #Compile all of our parameters into a list\n",
    "            paramlist = [pres_r,no_addict_r,treat_ent_r,addict_rate,addict_fromaddict_rate,\n",
    "                         addict_frompres_rate,relapse_rate,rehab_success_rate,\n",
    "                         death_rate,addict_od_death_rate]\n",
    "\n",
    "            #Calculate RK4 Steps for fixed set of parameters across span of time\n",
    "            for year in range(t_0+1,(t_0 + span)):#For results in span from 2011\n",
    "                #Setup lists to be used in rk4 solver\n",
    "                pop_list = [s,p,a,r]\n",
    "                #Find proportions for t0+1\n",
    "                s_1,p_1,a_1,r_1 = rk4_odesolver(pop_list,paramlist)\n",
    "\n",
    "                #Calculate S-ORD(t)\n",
    "                od_death = (pop_2010_2017[year])*(addict_od_death_rate - death_rate)*a_1\n",
    "                od_dif = abs(od_death - od_dict[year])#Compare to A-ORD(2017)\n",
    "                results.append([year,pres_r,no_addict_r,treat_ent_r,\n",
    "                                s_1,p_1,a_1,r_1,od_death,od_dif])\n",
    "\n",
    "\n",
    "                #Return to vogue, assign initial conditions for next year\n",
    "                s,p,a,r = s_1, p_1, a_1, r_1\n",
    "\n",
    "                step = step + 1\n",
    "                progress_report(step,step_total,3)\n"
   ]
  },
  {
   "cell_type": "markdown",
   "metadata": {},
   "source": [
    "## Step 3: Visualize results"
   ]
  },
  {
   "cell_type": "code",
   "execution_count": 20,
   "metadata": {},
   "outputs": [
    {
     "data": {
      "image/png": "[encoded data removed]",
      "text/plain": [
       "<Figure size 432x288 with 1 Axes>"
      ]
     },
     "metadata": {
      "needs_background": "light"
     },
     "output_type": "display_data"
    }
   ],
   "source": [
    "plot_array = np.array(results)\n",
    "color_dict = {}\n",
    "color_list = ['red','cyan','green','blue','yellow','purple','orange']\n",
    "for i in range(len(no_addict_rate)):\n",
    "    color_dict[no_addict_rate[i]] = color_list[i]\n",
    "epsilon = '$\\epsilon $'\n",
    "\n",
    "for value in no_addict_rate:\n",
    "    instance_plot = plot_array[plot_array[:,2] == value]\n",
    "    instance_x = instance_plot[:,0]\n",
    "    instance_y = instance_plot[:,8]\n",
    "    instance_key = '= {:.3f}'.format(value)\n",
    "    instance_label = epsilon + instance_key\n",
    "    plt.plot(instance_x,instance_y, \n",
    "             label = instance_label, \n",
    "             color = color_dict[value])  \n",
    "plt.xlabel('Year')\n",
    "plt.ylabel('Simulated Overdoses')\n",
    "plt.legend()\n",
    "plt.show()"
   ]
  },
  {
   "cell_type": "markdown",
   "metadata": {},
   "source": [
    "# Redefined System Validation"
   ]
  },
  {
   "cell_type": "code",
   "execution_count": 21,
   "metadata": {},
   "outputs": [],
   "source": [
    "def g_s(t,x,s,p,a,r,f,g,\n",
    "           j,relapse_rate,death_rate,addict_od_death_rate):\n",
    "    \n",
    "    return -(x+a+p)*s + (j+death_rate)*p/f + x*((1/relapse_rate)-1)*r + addict_od_death_rate*a/g\n",
    "\n",
    "def g_p(t,x,s,p,f,j,addict_rate,death_rate):\n",
    "    \n",
    "    return x*f*s - (j + addict_rate + death_rate)*p\n",
    "\n",
    "def g_a(t,addict_rate,s,p,a,r,x,relapse_rate,f,\n",
    "           g,h,k,addict_od_death_rate):\n",
    "    \n",
    "    return x*g*r + (h*addict_rate + g*s)*p + (g*s - (k + addict_od_death_rate))*a\n",
    "\n",
    "def g_r(t,k,a,r,x,g,relapse_rate,death_rate):\n",
    "    \n",
    "    return k*relapse_rate*a/(x*g) - r\n",
    "\n",
    "def dg_dt(t,poplist,x,j,k,addict_rate,f,\n",
    "          g,h,relapse_rate,\n",
    "          addict_od_death_rate,death_rate):\n",
    "    s,p,a,r = poplist[0], poplist[1], poplist[2],poplist[3]\n",
    "    \n",
    "    gs = g_s(t,x,s,p,a,r,f,g,j,relapse_rate,death_rate,\n",
    "             addict_od_death_rate)\n",
    "    gp = g_p(t,x,s,p,f,j,addict_rate,death_rate)\n",
    "    ga = g_a(t,addict_rate,s,p,a,r,x,relapse_rate,f,\n",
    "           g,h,k,addict_od_death_rate)\n",
    "    gr = g_r(t,k,a,r,x,g,relapse_rate,death_rate)\n",
    "    \n",
    "    return [gs,gp,ga,gr]\n"
   ]
  },
  {
   "cell_type": "code",
   "execution_count": 22,
   "metadata": {},
   "outputs": [],
   "source": [
    "def new_rk4_odesolver(poplist,listofparameters):\n",
    "    #Local parameter assignement\n",
    "    x = listofparameters[0]\n",
    "    j = listofparameters[1]\n",
    "    k = listofparameters[2]\n",
    "    addict_rate = listofparameters[3]\n",
    "    addict_fromaddict_rate = listofparameters[4]\n",
    "    addict_frompres_rate = listofparameters[5]\n",
    "    relapse_rate = listofparameters[6]\n",
    "    rehab_success_rate = listofparameters[7]\n",
    "    death_rate = listofparameters[8]\n",
    "    addict_od_death_rate = listofparameters[9]\n",
    "\n",
    "    #Some values for solveivp to be used for all populations\n",
    "    method = 'RK45'\n",
    "    atol = 1.e-10\n",
    "    rtol = 1.e-6\n",
    "    t_min = 0.\n",
    "    t_max = 1\n",
    "    t_span= np.array([t_min, t_max])\n",
    "    \n",
    "    \n",
    "    poplist[0] = poplist[0]*x\n",
    "    poplist[3] = poplist[3]*relapse_rate\n",
    "\n",
    "    f = addict_frompres_rate/x\n",
    "    h = addict_fromaddict_rate/addict_frompres_rate\n",
    "    g = addict_fromaddict_rate/x\n",
    "\n",
    "    poplist[1] = poplist[1]*x*f\n",
    "    poplist[2] = poplist[2]*x*h*f\n",
    "\n",
    "    pop_n_1 = solve_ivp(lambda t,poplist : \n",
    "        dg_dt(t,poplist,x,j,k,addict_rate,f,g,h,relapse_rate,\n",
    "              addict_od_death_rate,death_rate),\n",
    "        t_span,np.array(poplist),\n",
    "        method = method, rtol=rtol, atol=atol,vectorized = True)\n",
    "\n",
    "    values_n_1 = pop_n_1.y[:,-1]\n",
    "    sfin,pfin,afin,rfin = values_n_1[0], values_n_1[1], values_n_1[2], values_n_1[3]\n",
    "\n",
    "    sfin = sfin/x\n",
    "    pfin = pfin/(x*f)\n",
    "    afin = afin/(x*h*f)\n",
    "    rfin = rfin/relapse_rate\n",
    "\n",
    "\n",
    "\n",
    "    return sfin,pfin,afin,rfin\n"
   ]
  },
  {
   "cell_type": "code",
   "execution_count": 23,
   "metadata": {},
   "outputs": [
    {
     "name": "stdout",
     "output_type": "stream",
     "text": [
      "Progress: 34%\n",
      "Progress: 67%\n",
      "Progress: 100%\n"
     ]
    }
   ],
   "source": [
    "#Initiate list for results\n",
    "new_results = []\n",
    "step = 0\n",
    "for x in pres_rate: \n",
    "    for k in treat_entry_rate:\n",
    "        for j in no_addict_rate:\n",
    "            #Reset proportions to t = t_0\n",
    "            s,p,a,r = s_0, p_0, a_0, r_0\n",
    "\n",
    "            #Compile all of our parameters into a list\n",
    "            paramlist = [x,j,k,addict_rate,addict_fromaddict_rate,\n",
    "                         addict_frompres_rate,relapse_rate,rehab_success_rate,\n",
    "                         death_rate,addict_od_death_rate]\n",
    "\n",
    "            #Calculate RK4 Steps for fixed set of parameters across span of time\n",
    "            for year in range(t_0+1,(t_0 + span)):#For results in span from 2011\n",
    "                #Setup lists to be used in rk4 solver\n",
    "                pop_list = [s,p,a,r]\n",
    "                #Find proportions for t0+1\n",
    "                s_1,p_1,a_1,r_1 = new_rk4_odesolver(pop_list,paramlist)\n",
    "\n",
    "                #Calculate S-ORD(t)\n",
    "                od_death = (pop_2010_2017[year])*(addict_od_death_rate - death_rate)*a_1\n",
    "                if i == 2017: #For 1 and 2, only care about difference at end\n",
    "                    od_dif = abs(od_death - opioid_od_2017)#Compare to A-ORD(2017)\n",
    "                    new_results.append([year,x,j,k,s_1,p_1,a_1,r_1,od_death,od_dif])\n",
    "                else:\n",
    "                    new_results.append([year,x,j,k,s_1,p_1,a_1,r_1,od_death,0])\n",
    "\n",
    "                #Return to vogue, assign initial conditions for next year\n",
    "                s,p,a,r = s_1, p_1, a_1, r_1\n",
    "\n",
    "                step = step + 1\n",
    "                progress_report(step,step_total,3)"
   ]
  },
  {
   "cell_type": "code",
   "execution_count": 24,
   "metadata": {},
   "outputs": [
    {
     "data": {
      "image/png": "[encoded data removed]",
      "text/plain": [
       "<Figure size 432x288 with 1 Axes>"
      ]
     },
     "metadata": {
      "needs_background": "light"
     },
     "output_type": "display_data"
    }
   ],
   "source": [
    "new_plot_array = np.array(new_results)\n",
    "color_dict = {}\n",
    "color_list = ['red','cyan','green','blue','yellow','purple','orange']\n",
    "for i in range(len(no_addict_rate)):\n",
    "    color_dict[no_addict_rate[i]] = color_list[i]\n",
    "epsilon = '$\\epsilon $'\n",
    "\n",
    "for value in no_addict_rate:\n",
    "    instance_plot = plot_array[plot_array[:,2] == value]\n",
    "    instance_plot_new = new_plot_array[new_plot_array[:,2] == value]\n",
    "    instance_x = instance_plot[:,0]\n",
    "    instance_y = np.mean((instance_plot[:,8] - instance_plot_new[:,8]))\n",
    "    instance_y = instance_y*np.ones([instance_x.shape[0],1])\n",
    "    instance_y_std = np.std((instance_plot[:,8] - instance_plot_new[:,8]))\n",
    "    instace_y_std = instance_y_std*np.ones([instance_x.shape[0],1])\n",
    "    instance_key = '= {:.3f}'.format(value)\n",
    "    instance_label = epsilon + instance_key\n",
    "    plt.plot(instance_x,instance_y,'o', \n",
    "             label = instance_label, \n",
    "             color = color_dict[value]) \n",
    "    plt.errorbar(instance_x,instance_y, yerr = instance_y_std, xerr = None,fmt = 'none')\n",
    "plt.xlabel('Year')\n",
    "plt.ylabel('Difference in Simulated Overdoses')\n",
    "plt.ylim(-3,3)\n",
    "plt.show()"
   ]
  },
  {
   "cell_type": "code",
   "execution_count": null,
   "metadata": {},
   "outputs": [],
   "source": []
  }
 ],
 "metadata": {
  "kernelspec": {
   "display_name": "Python 3",
   "language": "python",
   "name": "python3"
  },
  "language_info": {
   "codemirror_mode": {
    "name": "ipython",
    "version": 3
   },
   "file_extension": ".py",
   "mimetype": "text/x-python",
   "name": "python",
   "nbconvert_exporter": "python",
   "pygments_lexer": "ipython3",
   "version": "3.7.3"
  }
 },
 "nbformat": 4,
 "nbformat_minor": 2
}
